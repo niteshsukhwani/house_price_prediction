{
 "cells": [
  {
   "cell_type": "markdown",
   "metadata": {},
   "source": [
    "# Created By Nitesh Sukhwani(2018MSBDA007)"
   ]
  },
  {
   "cell_type": "markdown",
   "metadata": {},
   "source": [
    "# importing the required library"
   ]
  },
  {
   "cell_type": "code",
   "execution_count": 1,
   "metadata": {},
   "outputs": [],
   "source": [
    "import pandas as pd\n",
    "import numpy as np\n",
    "from sklearn import linear_model\n",
    "from sklearn.linear_model import ElasticNet\n",
    "from sklearn.ensemble import GradientBoostingRegressor\n",
    "from sklearn.neural_network import MLPRegressor\n",
    "from sklearn.ensemble import AdaBoostRegressor\n",
    "from sklearn.tree import DecisionTreeRegressor\n",
    "from sklearn.model_selection import train_test_split"
   ]
  },
  {
   "cell_type": "markdown",
   "metadata": {},
   "source": [
    "# reading the data"
   ]
  },
  {
   "cell_type": "code",
   "execution_count": 2,
   "metadata": {},
   "outputs": [],
   "source": [
    "train=pd.read_csv(\"train.csv\")\n",
    "test=pd.read_csv(\"test.csv\")"
   ]
  },
  {
   "cell_type": "code",
   "execution_count": 3,
   "metadata": {},
   "outputs": [
    {
     "data": {
      "text/html": [
       "<div>\n",
       "<style scoped>\n",
       "    .dataframe tbody tr th:only-of-type {\n",
       "        vertical-align: middle;\n",
       "    }\n",
       "\n",
       "    .dataframe tbody tr th {\n",
       "        vertical-align: top;\n",
       "    }\n",
       "\n",
       "    .dataframe thead th {\n",
       "        text-align: right;\n",
       "    }\n",
       "</style>\n",
       "<table border=\"1\" class=\"dataframe\">\n",
       "  <thead>\n",
       "    <tr style=\"text-align: right;\">\n",
       "      <th></th>\n",
       "      <th>Id</th>\n",
       "      <th>MSSubClass</th>\n",
       "      <th>MSZoning</th>\n",
       "      <th>LotFrontage</th>\n",
       "      <th>LotArea</th>\n",
       "      <th>Street</th>\n",
       "      <th>Alley</th>\n",
       "      <th>LotShape</th>\n",
       "      <th>LandContour</th>\n",
       "      <th>Utilities</th>\n",
       "      <th>...</th>\n",
       "      <th>PoolArea</th>\n",
       "      <th>PoolQC</th>\n",
       "      <th>Fence</th>\n",
       "      <th>MiscFeature</th>\n",
       "      <th>MiscVal</th>\n",
       "      <th>MoSold</th>\n",
       "      <th>YrSold</th>\n",
       "      <th>SaleType</th>\n",
       "      <th>SaleCondition</th>\n",
       "      <th>SalePrice</th>\n",
       "    </tr>\n",
       "  </thead>\n",
       "  <tbody>\n",
       "    <tr>\n",
       "      <th>0</th>\n",
       "      <td>1</td>\n",
       "      <td>60</td>\n",
       "      <td>RL</td>\n",
       "      <td>65.0</td>\n",
       "      <td>8450</td>\n",
       "      <td>Pave</td>\n",
       "      <td>NaN</td>\n",
       "      <td>Reg</td>\n",
       "      <td>Lvl</td>\n",
       "      <td>AllPub</td>\n",
       "      <td>...</td>\n",
       "      <td>0</td>\n",
       "      <td>NaN</td>\n",
       "      <td>NaN</td>\n",
       "      <td>NaN</td>\n",
       "      <td>0</td>\n",
       "      <td>2</td>\n",
       "      <td>2008</td>\n",
       "      <td>WD</td>\n",
       "      <td>Normal</td>\n",
       "      <td>208500</td>\n",
       "    </tr>\n",
       "    <tr>\n",
       "      <th>1</th>\n",
       "      <td>2</td>\n",
       "      <td>20</td>\n",
       "      <td>RL</td>\n",
       "      <td>80.0</td>\n",
       "      <td>9600</td>\n",
       "      <td>Pave</td>\n",
       "      <td>NaN</td>\n",
       "      <td>Reg</td>\n",
       "      <td>Lvl</td>\n",
       "      <td>AllPub</td>\n",
       "      <td>...</td>\n",
       "      <td>0</td>\n",
       "      <td>NaN</td>\n",
       "      <td>NaN</td>\n",
       "      <td>NaN</td>\n",
       "      <td>0</td>\n",
       "      <td>5</td>\n",
       "      <td>2007</td>\n",
       "      <td>WD</td>\n",
       "      <td>Normal</td>\n",
       "      <td>181500</td>\n",
       "    </tr>\n",
       "    <tr>\n",
       "      <th>2</th>\n",
       "      <td>3</td>\n",
       "      <td>60</td>\n",
       "      <td>RL</td>\n",
       "      <td>68.0</td>\n",
       "      <td>11250</td>\n",
       "      <td>Pave</td>\n",
       "      <td>NaN</td>\n",
       "      <td>IR1</td>\n",
       "      <td>Lvl</td>\n",
       "      <td>AllPub</td>\n",
       "      <td>...</td>\n",
       "      <td>0</td>\n",
       "      <td>NaN</td>\n",
       "      <td>NaN</td>\n",
       "      <td>NaN</td>\n",
       "      <td>0</td>\n",
       "      <td>9</td>\n",
       "      <td>2008</td>\n",
       "      <td>WD</td>\n",
       "      <td>Normal</td>\n",
       "      <td>223500</td>\n",
       "    </tr>\n",
       "    <tr>\n",
       "      <th>3</th>\n",
       "      <td>4</td>\n",
       "      <td>70</td>\n",
       "      <td>RL</td>\n",
       "      <td>60.0</td>\n",
       "      <td>9550</td>\n",
       "      <td>Pave</td>\n",
       "      <td>NaN</td>\n",
       "      <td>IR1</td>\n",
       "      <td>Lvl</td>\n",
       "      <td>AllPub</td>\n",
       "      <td>...</td>\n",
       "      <td>0</td>\n",
       "      <td>NaN</td>\n",
       "      <td>NaN</td>\n",
       "      <td>NaN</td>\n",
       "      <td>0</td>\n",
       "      <td>2</td>\n",
       "      <td>2006</td>\n",
       "      <td>WD</td>\n",
       "      <td>Abnorml</td>\n",
       "      <td>140000</td>\n",
       "    </tr>\n",
       "    <tr>\n",
       "      <th>4</th>\n",
       "      <td>5</td>\n",
       "      <td>60</td>\n",
       "      <td>RL</td>\n",
       "      <td>84.0</td>\n",
       "      <td>14260</td>\n",
       "      <td>Pave</td>\n",
       "      <td>NaN</td>\n",
       "      <td>IR1</td>\n",
       "      <td>Lvl</td>\n",
       "      <td>AllPub</td>\n",
       "      <td>...</td>\n",
       "      <td>0</td>\n",
       "      <td>NaN</td>\n",
       "      <td>NaN</td>\n",
       "      <td>NaN</td>\n",
       "      <td>0</td>\n",
       "      <td>12</td>\n",
       "      <td>2008</td>\n",
       "      <td>WD</td>\n",
       "      <td>Normal</td>\n",
       "      <td>250000</td>\n",
       "    </tr>\n",
       "  </tbody>\n",
       "</table>\n",
       "<p>5 rows × 81 columns</p>\n",
       "</div>"
      ],
      "text/plain": [
       "   Id  MSSubClass MSZoning  LotFrontage  LotArea Street Alley LotShape  \\\n",
       "0   1          60       RL         65.0     8450   Pave   NaN      Reg   \n",
       "1   2          20       RL         80.0     9600   Pave   NaN      Reg   \n",
       "2   3          60       RL         68.0    11250   Pave   NaN      IR1   \n",
       "3   4          70       RL         60.0     9550   Pave   NaN      IR1   \n",
       "4   5          60       RL         84.0    14260   Pave   NaN      IR1   \n",
       "\n",
       "  LandContour Utilities    ...     PoolArea PoolQC Fence MiscFeature MiscVal  \\\n",
       "0         Lvl    AllPub    ...            0    NaN   NaN         NaN       0   \n",
       "1         Lvl    AllPub    ...            0    NaN   NaN         NaN       0   \n",
       "2         Lvl    AllPub    ...            0    NaN   NaN         NaN       0   \n",
       "3         Lvl    AllPub    ...            0    NaN   NaN         NaN       0   \n",
       "4         Lvl    AllPub    ...            0    NaN   NaN         NaN       0   \n",
       "\n",
       "  MoSold YrSold  SaleType  SaleCondition  SalePrice  \n",
       "0      2   2008        WD         Normal     208500  \n",
       "1      5   2007        WD         Normal     181500  \n",
       "2      9   2008        WD         Normal     223500  \n",
       "3      2   2006        WD        Abnorml     140000  \n",
       "4     12   2008        WD         Normal     250000  \n",
       "\n",
       "[5 rows x 81 columns]"
      ]
     },
     "execution_count": 3,
     "metadata": {},
     "output_type": "execute_result"
    }
   ],
   "source": [
    "train.head()"
   ]
  },
  {
   "cell_type": "code",
   "execution_count": 4,
   "metadata": {},
   "outputs": [
    {
     "data": {
      "text/html": [
       "<div>\n",
       "<style scoped>\n",
       "    .dataframe tbody tr th:only-of-type {\n",
       "        vertical-align: middle;\n",
       "    }\n",
       "\n",
       "    .dataframe tbody tr th {\n",
       "        vertical-align: top;\n",
       "    }\n",
       "\n",
       "    .dataframe thead th {\n",
       "        text-align: right;\n",
       "    }\n",
       "</style>\n",
       "<table border=\"1\" class=\"dataframe\">\n",
       "  <thead>\n",
       "    <tr style=\"text-align: right;\">\n",
       "      <th></th>\n",
       "      <th>Id</th>\n",
       "      <th>MSSubClass</th>\n",
       "      <th>MSZoning</th>\n",
       "      <th>LotFrontage</th>\n",
       "      <th>LotArea</th>\n",
       "      <th>Street</th>\n",
       "      <th>Alley</th>\n",
       "      <th>LotShape</th>\n",
       "      <th>LandContour</th>\n",
       "      <th>Utilities</th>\n",
       "      <th>...</th>\n",
       "      <th>ScreenPorch</th>\n",
       "      <th>PoolArea</th>\n",
       "      <th>PoolQC</th>\n",
       "      <th>Fence</th>\n",
       "      <th>MiscFeature</th>\n",
       "      <th>MiscVal</th>\n",
       "      <th>MoSold</th>\n",
       "      <th>YrSold</th>\n",
       "      <th>SaleType</th>\n",
       "      <th>SaleCondition</th>\n",
       "    </tr>\n",
       "  </thead>\n",
       "  <tbody>\n",
       "    <tr>\n",
       "      <th>0</th>\n",
       "      <td>1461</td>\n",
       "      <td>20</td>\n",
       "      <td>RH</td>\n",
       "      <td>80.0</td>\n",
       "      <td>11622</td>\n",
       "      <td>Pave</td>\n",
       "      <td>NaN</td>\n",
       "      <td>Reg</td>\n",
       "      <td>Lvl</td>\n",
       "      <td>AllPub</td>\n",
       "      <td>...</td>\n",
       "      <td>120</td>\n",
       "      <td>0</td>\n",
       "      <td>NaN</td>\n",
       "      <td>MnPrv</td>\n",
       "      <td>NaN</td>\n",
       "      <td>0</td>\n",
       "      <td>6</td>\n",
       "      <td>2010</td>\n",
       "      <td>WD</td>\n",
       "      <td>Normal</td>\n",
       "    </tr>\n",
       "    <tr>\n",
       "      <th>1</th>\n",
       "      <td>1462</td>\n",
       "      <td>20</td>\n",
       "      <td>RL</td>\n",
       "      <td>81.0</td>\n",
       "      <td>14267</td>\n",
       "      <td>Pave</td>\n",
       "      <td>NaN</td>\n",
       "      <td>IR1</td>\n",
       "      <td>Lvl</td>\n",
       "      <td>AllPub</td>\n",
       "      <td>...</td>\n",
       "      <td>0</td>\n",
       "      <td>0</td>\n",
       "      <td>NaN</td>\n",
       "      <td>NaN</td>\n",
       "      <td>Gar2</td>\n",
       "      <td>12500</td>\n",
       "      <td>6</td>\n",
       "      <td>2010</td>\n",
       "      <td>WD</td>\n",
       "      <td>Normal</td>\n",
       "    </tr>\n",
       "    <tr>\n",
       "      <th>2</th>\n",
       "      <td>1463</td>\n",
       "      <td>60</td>\n",
       "      <td>RL</td>\n",
       "      <td>74.0</td>\n",
       "      <td>13830</td>\n",
       "      <td>Pave</td>\n",
       "      <td>NaN</td>\n",
       "      <td>IR1</td>\n",
       "      <td>Lvl</td>\n",
       "      <td>AllPub</td>\n",
       "      <td>...</td>\n",
       "      <td>0</td>\n",
       "      <td>0</td>\n",
       "      <td>NaN</td>\n",
       "      <td>MnPrv</td>\n",
       "      <td>NaN</td>\n",
       "      <td>0</td>\n",
       "      <td>3</td>\n",
       "      <td>2010</td>\n",
       "      <td>WD</td>\n",
       "      <td>Normal</td>\n",
       "    </tr>\n",
       "    <tr>\n",
       "      <th>3</th>\n",
       "      <td>1464</td>\n",
       "      <td>60</td>\n",
       "      <td>RL</td>\n",
       "      <td>78.0</td>\n",
       "      <td>9978</td>\n",
       "      <td>Pave</td>\n",
       "      <td>NaN</td>\n",
       "      <td>IR1</td>\n",
       "      <td>Lvl</td>\n",
       "      <td>AllPub</td>\n",
       "      <td>...</td>\n",
       "      <td>0</td>\n",
       "      <td>0</td>\n",
       "      <td>NaN</td>\n",
       "      <td>NaN</td>\n",
       "      <td>NaN</td>\n",
       "      <td>0</td>\n",
       "      <td>6</td>\n",
       "      <td>2010</td>\n",
       "      <td>WD</td>\n",
       "      <td>Normal</td>\n",
       "    </tr>\n",
       "    <tr>\n",
       "      <th>4</th>\n",
       "      <td>1465</td>\n",
       "      <td>120</td>\n",
       "      <td>RL</td>\n",
       "      <td>43.0</td>\n",
       "      <td>5005</td>\n",
       "      <td>Pave</td>\n",
       "      <td>NaN</td>\n",
       "      <td>IR1</td>\n",
       "      <td>HLS</td>\n",
       "      <td>AllPub</td>\n",
       "      <td>...</td>\n",
       "      <td>144</td>\n",
       "      <td>0</td>\n",
       "      <td>NaN</td>\n",
       "      <td>NaN</td>\n",
       "      <td>NaN</td>\n",
       "      <td>0</td>\n",
       "      <td>1</td>\n",
       "      <td>2010</td>\n",
       "      <td>WD</td>\n",
       "      <td>Normal</td>\n",
       "    </tr>\n",
       "  </tbody>\n",
       "</table>\n",
       "<p>5 rows × 80 columns</p>\n",
       "</div>"
      ],
      "text/plain": [
       "     Id  MSSubClass MSZoning  LotFrontage  LotArea Street Alley LotShape  \\\n",
       "0  1461          20       RH         80.0    11622   Pave   NaN      Reg   \n",
       "1  1462          20       RL         81.0    14267   Pave   NaN      IR1   \n",
       "2  1463          60       RL         74.0    13830   Pave   NaN      IR1   \n",
       "3  1464          60       RL         78.0     9978   Pave   NaN      IR1   \n",
       "4  1465         120       RL         43.0     5005   Pave   NaN      IR1   \n",
       "\n",
       "  LandContour Utilities      ...       ScreenPorch PoolArea PoolQC  Fence  \\\n",
       "0         Lvl    AllPub      ...               120        0    NaN  MnPrv   \n",
       "1         Lvl    AllPub      ...                 0        0    NaN    NaN   \n",
       "2         Lvl    AllPub      ...                 0        0    NaN  MnPrv   \n",
       "3         Lvl    AllPub      ...                 0        0    NaN    NaN   \n",
       "4         HLS    AllPub      ...               144        0    NaN    NaN   \n",
       "\n",
       "  MiscFeature MiscVal MoSold  YrSold  SaleType  SaleCondition  \n",
       "0         NaN       0      6    2010        WD         Normal  \n",
       "1        Gar2   12500      6    2010        WD         Normal  \n",
       "2         NaN       0      3    2010        WD         Normal  \n",
       "3         NaN       0      6    2010        WD         Normal  \n",
       "4         NaN       0      1    2010        WD         Normal  \n",
       "\n",
       "[5 rows x 80 columns]"
      ]
     },
     "execution_count": 4,
     "metadata": {},
     "output_type": "execute_result"
    }
   ],
   "source": [
    "test.head()"
   ]
  },
  {
   "cell_type": "markdown",
   "metadata": {},
   "source": [
    "# preprocessing data"
   ]
  },
  {
   "cell_type": "code",
   "execution_count": 5,
   "metadata": {},
   "outputs": [
    {
     "data": {
      "text/plain": [
       "Id                  0\n",
       "MSSubClass          0\n",
       "MSZoning            4\n",
       "LotFrontage       227\n",
       "LotArea             0\n",
       "Street              0\n",
       "Alley            1352\n",
       "LotShape            0\n",
       "LandContour         0\n",
       "Utilities           2\n",
       "LotConfig           0\n",
       "LandSlope           0\n",
       "Neighborhood        0\n",
       "Condition1          0\n",
       "Condition2          0\n",
       "BldgType            0\n",
       "HouseStyle          0\n",
       "OverallQual         0\n",
       "OverallCond         0\n",
       "YearBuilt           0\n",
       "YearRemodAdd        0\n",
       "RoofStyle           0\n",
       "RoofMatl            0\n",
       "Exterior1st         1\n",
       "Exterior2nd         1\n",
       "MasVnrType         16\n",
       "MasVnrArea         15\n",
       "ExterQual           0\n",
       "ExterCond           0\n",
       "Foundation          0\n",
       "                 ... \n",
       "HalfBath            0\n",
       "BedroomAbvGr        0\n",
       "KitchenAbvGr        0\n",
       "KitchenQual         1\n",
       "TotRmsAbvGrd        0\n",
       "Functional          2\n",
       "Fireplaces          0\n",
       "FireplaceQu       730\n",
       "GarageType         76\n",
       "GarageYrBlt        78\n",
       "GarageFinish       78\n",
       "GarageCars          1\n",
       "GarageArea          1\n",
       "GarageQual         78\n",
       "GarageCond         78\n",
       "PavedDrive          0\n",
       "WoodDeckSF          0\n",
       "OpenPorchSF         0\n",
       "EnclosedPorch       0\n",
       "3SsnPorch           0\n",
       "ScreenPorch         0\n",
       "PoolArea            0\n",
       "PoolQC           1456\n",
       "Fence            1169\n",
       "MiscFeature      1408\n",
       "MiscVal             0\n",
       "MoSold              0\n",
       "YrSold              0\n",
       "SaleType            1\n",
       "SaleCondition       0\n",
       "Length: 80, dtype: int64"
      ]
     },
     "execution_count": 5,
     "metadata": {},
     "output_type": "execute_result"
    }
   ],
   "source": [
    "test.isnull().sum()"
   ]
  },
  {
   "cell_type": "markdown",
   "metadata": {},
   "source": [
    "Removing Columns with mazority of value as NAN and Imputing other columns with mode"
   ]
  },
  {
   "cell_type": "code",
   "execution_count": 6,
   "metadata": {},
   "outputs": [],
   "source": [
    "train.drop(['Alley','MiscFeature','PoolQC','Fence','FireplaceQu'], axis=1,inplace=True)\n",
    "test.drop(['Alley','MiscFeature','PoolQC','Fence','FireplaceQu'], axis=1,inplace=True)"
   ]
  },
  {
   "cell_type": "code",
   "execution_count": 7,
   "metadata": {},
   "outputs": [],
   "source": [
    "lst = ['LotFrontage','GarageYrBlt',]\n",
    "for i in lst:\n",
    "    train[i].fillna(train[i].mode()[0], inplace=True)\n",
    "    test[i].fillna(test[i].mode()[0], inplace=True)"
   ]
  },
  {
   "cell_type": "code",
   "execution_count": 8,
   "metadata": {},
   "outputs": [],
   "source": [
    "train = train.fillna(0)\n",
    "test = test.fillna(0)"
   ]
  },
  {
   "cell_type": "markdown",
   "metadata": {},
   "source": [
    "Changing categorical value to numerical"
   ]
  },
  {
   "cell_type": "code",
   "execution_count": 9,
   "metadata": {},
   "outputs": [
    {
     "data": {
      "text/plain": [
       "Id                 int64\n",
       "MSSubClass         int64\n",
       "MSZoning          object\n",
       "LotFrontage      float64\n",
       "LotArea            int64\n",
       "Street            object\n",
       "LotShape          object\n",
       "LandContour       object\n",
       "Utilities         object\n",
       "LotConfig         object\n",
       "LandSlope         object\n",
       "Neighborhood      object\n",
       "Condition1        object\n",
       "Condition2        object\n",
       "BldgType          object\n",
       "HouseStyle        object\n",
       "OverallQual        int64\n",
       "OverallCond        int64\n",
       "YearBuilt          int64\n",
       "YearRemodAdd       int64\n",
       "RoofStyle         object\n",
       "RoofMatl          object\n",
       "Exterior1st       object\n",
       "Exterior2nd       object\n",
       "MasVnrType        object\n",
       "MasVnrArea       float64\n",
       "ExterQual         object\n",
       "ExterCond         object\n",
       "Foundation        object\n",
       "BsmtQual          object\n",
       "                  ...   \n",
       "BsmtFullBath       int64\n",
       "BsmtHalfBath       int64\n",
       "FullBath           int64\n",
       "HalfBath           int64\n",
       "BedroomAbvGr       int64\n",
       "KitchenAbvGr       int64\n",
       "KitchenQual       object\n",
       "TotRmsAbvGrd       int64\n",
       "Functional        object\n",
       "Fireplaces         int64\n",
       "GarageType        object\n",
       "GarageYrBlt      float64\n",
       "GarageFinish      object\n",
       "GarageCars         int64\n",
       "GarageArea         int64\n",
       "GarageQual        object\n",
       "GarageCond        object\n",
       "PavedDrive        object\n",
       "WoodDeckSF         int64\n",
       "OpenPorchSF        int64\n",
       "EnclosedPorch      int64\n",
       "3SsnPorch          int64\n",
       "ScreenPorch        int64\n",
       "PoolArea           int64\n",
       "MiscVal            int64\n",
       "MoSold             int64\n",
       "YrSold             int64\n",
       "SaleType          object\n",
       "SaleCondition     object\n",
       "SalePrice          int64\n",
       "Length: 76, dtype: object"
      ]
     },
     "execution_count": 9,
     "metadata": {},
     "output_type": "execute_result"
    }
   ],
   "source": [
    "train.dtypes"
   ]
  },
  {
   "cell_type": "code",
   "execution_count": 10,
   "metadata": {},
   "outputs": [],
   "source": [
    "c = train.columns\n",
    "d = []\n",
    "o = train[c[5]].dtypes\n",
    "for cname in c:\n",
    "    if(train[cname].dtype == o):\n",
    "        d.append(cname)\n",
    "        train[cname] = train[cname].astype('category')\n",
    "        test[cname] = test[cname].astype('category')\n",
    "        train[cname+\"_cat\"] = train[cname].cat.codes\n",
    "        test[cname+\"_cat\"] = test[cname].cat.codes"
   ]
  },
  {
   "cell_type": "code",
   "execution_count": 12,
   "metadata": {},
   "outputs": [],
   "source": [
    "train.drop(d, axis=1,inplace=True)\n",
    "test.drop(d, axis=1,inplace=True)"
   ]
  },
  {
   "cell_type": "code",
   "execution_count": 14,
   "metadata": {},
   "outputs": [
    {
     "data": {
      "text/plain": [
       "Id                     int64\n",
       "MSSubClass             int64\n",
       "LotFrontage          float64\n",
       "LotArea                int64\n",
       "OverallQual            int64\n",
       "OverallCond            int64\n",
       "YearBuilt              int64\n",
       "YearRemodAdd           int64\n",
       "MasVnrArea           float64\n",
       "BsmtFinSF1             int64\n",
       "BsmtFinSF2             int64\n",
       "BsmtUnfSF              int64\n",
       "TotalBsmtSF            int64\n",
       "1stFlrSF               int64\n",
       "2ndFlrSF               int64\n",
       "LowQualFinSF           int64\n",
       "GrLivArea              int64\n",
       "BsmtFullBath           int64\n",
       "BsmtHalfBath           int64\n",
       "FullBath               int64\n",
       "HalfBath               int64\n",
       "BedroomAbvGr           int64\n",
       "KitchenAbvGr           int64\n",
       "TotRmsAbvGrd           int64\n",
       "Fireplaces             int64\n",
       "GarageYrBlt          float64\n",
       "GarageCars             int64\n",
       "GarageArea             int64\n",
       "WoodDeckSF             int64\n",
       "OpenPorchSF            int64\n",
       "                      ...   \n",
       "Condition1_cat          int8\n",
       "Condition2_cat          int8\n",
       "BldgType_cat            int8\n",
       "HouseStyle_cat          int8\n",
       "RoofStyle_cat           int8\n",
       "RoofMatl_cat            int8\n",
       "Exterior1st_cat         int8\n",
       "Exterior2nd_cat         int8\n",
       "MasVnrType_cat          int8\n",
       "ExterQual_cat           int8\n",
       "ExterCond_cat           int8\n",
       "Foundation_cat          int8\n",
       "BsmtQual_cat            int8\n",
       "BsmtCond_cat            int8\n",
       "BsmtExposure_cat        int8\n",
       "BsmtFinType1_cat        int8\n",
       "BsmtFinType2_cat        int8\n",
       "Heating_cat             int8\n",
       "HeatingQC_cat           int8\n",
       "CentralAir_cat          int8\n",
       "Electrical_cat          int8\n",
       "KitchenQual_cat         int8\n",
       "Functional_cat          int8\n",
       "GarageType_cat          int8\n",
       "GarageFinish_cat        int8\n",
       "GarageQual_cat          int8\n",
       "GarageCond_cat          int8\n",
       "PavedDrive_cat          int8\n",
       "SaleType_cat            int8\n",
       "SaleCondition_cat       int8\n",
       "Length: 76, dtype: object"
      ]
     },
     "execution_count": 14,
     "metadata": {},
     "output_type": "execute_result"
    }
   ],
   "source": [
    "train.dtypes"
   ]
  },
  {
   "cell_type": "code",
   "execution_count": 13,
   "metadata": {},
   "outputs": [
    {
     "data": {
      "text/html": [
       "<div>\n",
       "<style scoped>\n",
       "    .dataframe tbody tr th:only-of-type {\n",
       "        vertical-align: middle;\n",
       "    }\n",
       "\n",
       "    .dataframe tbody tr th {\n",
       "        vertical-align: top;\n",
       "    }\n",
       "\n",
       "    .dataframe thead th {\n",
       "        text-align: right;\n",
       "    }\n",
       "</style>\n",
       "<table border=\"1\" class=\"dataframe\">\n",
       "  <thead>\n",
       "    <tr style=\"text-align: right;\">\n",
       "      <th></th>\n",
       "      <th>Id</th>\n",
       "      <th>MSSubClass</th>\n",
       "      <th>LotFrontage</th>\n",
       "      <th>LotArea</th>\n",
       "      <th>OverallQual</th>\n",
       "      <th>OverallCond</th>\n",
       "      <th>YearBuilt</th>\n",
       "      <th>YearRemodAdd</th>\n",
       "      <th>MasVnrArea</th>\n",
       "      <th>BsmtFinSF1</th>\n",
       "      <th>...</th>\n",
       "      <th>Electrical_cat</th>\n",
       "      <th>KitchenQual_cat</th>\n",
       "      <th>Functional_cat</th>\n",
       "      <th>GarageType_cat</th>\n",
       "      <th>GarageFinish_cat</th>\n",
       "      <th>GarageQual_cat</th>\n",
       "      <th>GarageCond_cat</th>\n",
       "      <th>PavedDrive_cat</th>\n",
       "      <th>SaleType_cat</th>\n",
       "      <th>SaleCondition_cat</th>\n",
       "    </tr>\n",
       "  </thead>\n",
       "  <tbody>\n",
       "    <tr>\n",
       "      <th>0</th>\n",
       "      <td>1</td>\n",
       "      <td>60</td>\n",
       "      <td>65.0</td>\n",
       "      <td>8450</td>\n",
       "      <td>7</td>\n",
       "      <td>5</td>\n",
       "      <td>2003</td>\n",
       "      <td>2003</td>\n",
       "      <td>196.0</td>\n",
       "      <td>706</td>\n",
       "      <td>...</td>\n",
       "      <td>5</td>\n",
       "      <td>2</td>\n",
       "      <td>6</td>\n",
       "      <td>2</td>\n",
       "      <td>2</td>\n",
       "      <td>5</td>\n",
       "      <td>5</td>\n",
       "      <td>2</td>\n",
       "      <td>8</td>\n",
       "      <td>4</td>\n",
       "    </tr>\n",
       "    <tr>\n",
       "      <th>1</th>\n",
       "      <td>2</td>\n",
       "      <td>20</td>\n",
       "      <td>80.0</td>\n",
       "      <td>9600</td>\n",
       "      <td>6</td>\n",
       "      <td>8</td>\n",
       "      <td>1976</td>\n",
       "      <td>1976</td>\n",
       "      <td>0.0</td>\n",
       "      <td>978</td>\n",
       "      <td>...</td>\n",
       "      <td>5</td>\n",
       "      <td>3</td>\n",
       "      <td>6</td>\n",
       "      <td>2</td>\n",
       "      <td>2</td>\n",
       "      <td>5</td>\n",
       "      <td>5</td>\n",
       "      <td>2</td>\n",
       "      <td>8</td>\n",
       "      <td>4</td>\n",
       "    </tr>\n",
       "    <tr>\n",
       "      <th>2</th>\n",
       "      <td>3</td>\n",
       "      <td>60</td>\n",
       "      <td>68.0</td>\n",
       "      <td>11250</td>\n",
       "      <td>7</td>\n",
       "      <td>5</td>\n",
       "      <td>2001</td>\n",
       "      <td>2002</td>\n",
       "      <td>162.0</td>\n",
       "      <td>486</td>\n",
       "      <td>...</td>\n",
       "      <td>5</td>\n",
       "      <td>2</td>\n",
       "      <td>6</td>\n",
       "      <td>2</td>\n",
       "      <td>2</td>\n",
       "      <td>5</td>\n",
       "      <td>5</td>\n",
       "      <td>2</td>\n",
       "      <td>8</td>\n",
       "      <td>4</td>\n",
       "    </tr>\n",
       "    <tr>\n",
       "      <th>3</th>\n",
       "      <td>4</td>\n",
       "      <td>70</td>\n",
       "      <td>60.0</td>\n",
       "      <td>9550</td>\n",
       "      <td>7</td>\n",
       "      <td>5</td>\n",
       "      <td>1915</td>\n",
       "      <td>1970</td>\n",
       "      <td>0.0</td>\n",
       "      <td>216</td>\n",
       "      <td>...</td>\n",
       "      <td>5</td>\n",
       "      <td>2</td>\n",
       "      <td>6</td>\n",
       "      <td>6</td>\n",
       "      <td>3</td>\n",
       "      <td>5</td>\n",
       "      <td>5</td>\n",
       "      <td>2</td>\n",
       "      <td>8</td>\n",
       "      <td>0</td>\n",
       "    </tr>\n",
       "    <tr>\n",
       "      <th>4</th>\n",
       "      <td>5</td>\n",
       "      <td>60</td>\n",
       "      <td>84.0</td>\n",
       "      <td>14260</td>\n",
       "      <td>8</td>\n",
       "      <td>5</td>\n",
       "      <td>2000</td>\n",
       "      <td>2000</td>\n",
       "      <td>350.0</td>\n",
       "      <td>655</td>\n",
       "      <td>...</td>\n",
       "      <td>5</td>\n",
       "      <td>2</td>\n",
       "      <td>6</td>\n",
       "      <td>2</td>\n",
       "      <td>2</td>\n",
       "      <td>5</td>\n",
       "      <td>5</td>\n",
       "      <td>2</td>\n",
       "      <td>8</td>\n",
       "      <td>4</td>\n",
       "    </tr>\n",
       "  </tbody>\n",
       "</table>\n",
       "<p>5 rows × 76 columns</p>\n",
       "</div>"
      ],
      "text/plain": [
       "   Id  MSSubClass  LotFrontage  LotArea  OverallQual  OverallCond  YearBuilt  \\\n",
       "0   1          60         65.0     8450            7            5       2003   \n",
       "1   2          20         80.0     9600            6            8       1976   \n",
       "2   3          60         68.0    11250            7            5       2001   \n",
       "3   4          70         60.0     9550            7            5       1915   \n",
       "4   5          60         84.0    14260            8            5       2000   \n",
       "\n",
       "   YearRemodAdd  MasVnrArea  BsmtFinSF1        ...          Electrical_cat  \\\n",
       "0          2003       196.0         706        ...                       5   \n",
       "1          1976         0.0         978        ...                       5   \n",
       "2          2002       162.0         486        ...                       5   \n",
       "3          1970         0.0         216        ...                       5   \n",
       "4          2000       350.0         655        ...                       5   \n",
       "\n",
       "   KitchenQual_cat  Functional_cat  GarageType_cat  GarageFinish_cat  \\\n",
       "0                2               6               2                 2   \n",
       "1                3               6               2                 2   \n",
       "2                2               6               2                 2   \n",
       "3                2               6               6                 3   \n",
       "4                2               6               2                 2   \n",
       "\n",
       "   GarageQual_cat  GarageCond_cat  PavedDrive_cat  SaleType_cat  \\\n",
       "0               5               5               2             8   \n",
       "1               5               5               2             8   \n",
       "2               5               5               2             8   \n",
       "3               5               5               2             8   \n",
       "4               5               5               2             8   \n",
       "\n",
       "   SaleCondition_cat  \n",
       "0                  4  \n",
       "1                  4  \n",
       "2                  4  \n",
       "3                  0  \n",
       "4                  4  \n",
       "\n",
       "[5 rows x 76 columns]"
      ]
     },
     "execution_count": 13,
     "metadata": {},
     "output_type": "execute_result"
    }
   ],
   "source": [
    "train.head()"
   ]
  },
  {
   "cell_type": "code",
   "execution_count": 15,
   "metadata": {},
   "outputs": [],
   "source": [
    "y = train['SalePrice']"
   ]
  },
  {
   "cell_type": "code",
   "execution_count": 16,
   "metadata": {},
   "outputs": [],
   "source": [
    "X = train.drop(['SalePrice'], axis=1)"
   ]
  },
  {
   "cell_type": "markdown",
   "metadata": {},
   "source": [
    "# Fitting the Model"
   ]
  },
  {
   "cell_type": "code",
   "execution_count": 17,
   "metadata": {},
   "outputs": [],
   "source": [
    "# spiltting the datasets\n",
    "X_train, X_test,y_train,y_test = train_test_split(X,y)"
   ]
  },
  {
   "cell_type": "code",
   "execution_count": 18,
   "metadata": {},
   "outputs": [
    {
     "name": "stdout",
     "output_type": "stream",
     "text": [
      "Model Score :  0.6948239136000967\n"
     ]
    }
   ],
   "source": [
    "# Fitting Decision tree Model\n",
    "\n",
    "model = DecisionTreeRegressor()\n",
    "model.fit(X_train,y_train)\n",
    "print('Model Score : ',model.score(X_test,y_test))"
   ]
  },
  {
   "cell_type": "code",
   "execution_count": 19,
   "metadata": {},
   "outputs": [],
   "source": [
    "pr_t1=model.predict(X_train)     # stroing Predition on Training Set\n",
    "pr_tt1 = model.predict(X_test)   # stroing Predition on Testing Set\n",
    "pr_ttt1 = model.predict(test)    # stroing Predition on Test Set\n",
    "pr_tttt1 = model.predict(X)      # stroing Predition on Train Set"
   ]
  },
  {
   "cell_type": "code",
   "execution_count": 21,
   "metadata": {},
   "outputs": [
    {
     "name": "stdout",
     "output_type": "stream",
     "text": [
      "Model Score: 0.6739018453041974\n"
     ]
    }
   ],
   "source": [
    "# Fitting Linear Regression\n",
    "\n",
    "lm = linear_model.LinearRegression()\n",
    "model = lm.fit(X_train,y_train)\n",
    "#predictions = lm.predict(X)\n",
    "print('Model Score:',lm.score(X_test,y_test))"
   ]
  },
  {
   "cell_type": "code",
   "execution_count": 22,
   "metadata": {},
   "outputs": [],
   "source": [
    "pr_t2=model.predict(X_train)     # stroing Predition on Training Set\n",
    "pr_tt2 = model.predict(X_test)    # stroing Predition on Testing Set\n",
    "pr_ttt2 = model.predict(test)    # stroing Predition on Test Set\n",
    "pr_tttt2 = model.predict(X)      # stroing Predition on Train Set"
   ]
  },
  {
   "cell_type": "code",
   "execution_count": 23,
   "metadata": {},
   "outputs": [
    {
     "name": "stdout",
     "output_type": "stream",
     "text": [
      "model score 0.6754483107370267\n"
     ]
    },
    {
     "name": "stderr",
     "output_type": "stream",
     "text": [
      "C:\\Users\\Nitesh Sukhwani\\Anaconda3\\lib\\site-packages\\sklearn\\linear_model\\coordinate_descent.py:491: ConvergenceWarning: Objective did not converge. You might want to increase the number of iterations. Fitting data with very small alpha may cause precision problems.\n",
      "  ConvergenceWarning)\n"
     ]
    }
   ],
   "source": [
    "#Fitting Elstic Net\n",
    "\n",
    "regr = ElasticNet(alpha=0.1, copy_X=True, fit_intercept=True, l1_ratio=0.6,\n",
    "      max_iter=10000, normalize=False, positive=False, precompute=False,\n",
    "      random_state=0, selection='cyclic', tol=0.0001, warm_start=False)\n",
    "regr.fit(X_train, y_train)\n",
    "print('model score',regr.score(X_test,y_test))"
   ]
  },
  {
   "cell_type": "code",
   "execution_count": 24,
   "metadata": {},
   "outputs": [],
   "source": [
    "pr_t3=regr.predict(X_train)      # stroing Predition on Training Set\n",
    "pr_tt3 = regr.predict(X_test)    # stroing Predition on Testing Set\n",
    "pr_ttt3 = model.predict(test)    # stroing Predition on Test Set  \n",
    "pr_tttt3 = model.predict(X)      # stroing Predition on Train Set"
   ]
  },
  {
   "cell_type": "code",
   "execution_count": 27,
   "metadata": {},
   "outputs": [
    {
     "name": "stdout",
     "output_type": "stream",
     "text": [
      "Model Score 0.7839695703725442\n"
     ]
    }
   ],
   "source": [
    "# Fitting Ada boost Regressor\n",
    "\n",
    "model = AdaBoostRegressor(learning_rate=0.7,n_estimators=130)\n",
    "model.fit(X_train,y_train)\n",
    "print('Model Score',model.score(X_test,y_test))"
   ]
  },
  {
   "cell_type": "code",
   "execution_count": 28,
   "metadata": {},
   "outputs": [],
   "source": [
    "pr_t4=model.predict(X_train)    # stroing Predition on Training Set\n",
    "pr_tt4 = model.predict(X_test)   # stroing Predition on Testing Set\n",
    "pr_ttt4 = model.predict(test)   # stroing Predition on Test Set\n",
    "pr_tttt4 = model.predict(X)     # stroing Predition on Train Set"
   ]
  },
  {
   "cell_type": "code",
   "execution_count": 31,
   "metadata": {},
   "outputs": [
    {
     "name": "stdout",
     "output_type": "stream",
     "text": [
      "Model Score 0.5493407246930582\n"
     ]
    },
    {
     "name": "stderr",
     "output_type": "stream",
     "text": [
      "C:\\Users\\Nitesh Sukhwani\\Anaconda3\\lib\\site-packages\\sklearn\\neural_network\\multilayer_perceptron.py:564: ConvergenceWarning: Stochastic Optimizer: Maximum iterations (200) reached and the optimization hasn't converged yet.\n",
      "  % self.max_iter, ConvergenceWarning)\n"
     ]
    }
   ],
   "source": [
    "# fitiing MLP regressor\n",
    "\n",
    "model =MLPRegressor(hidden_layer_sizes=60)\n",
    "model.fit(X_train,y_train)\n",
    "print('Model Score',model.score(X_test,y_test))"
   ]
  },
  {
   "cell_type": "code",
   "execution_count": 32,
   "metadata": {},
   "outputs": [],
   "source": [
    "pr_t5=model.predict(X_train)     # stroing Predition on Training Set\n",
    "pr_tt5 = model.predict(X_test)    # stroing Predition on Testing Set\n",
    "pr_ttt5 = model.predict(test)    # stroing Predition on Test Set\n",
    "pr_tttt5 = model.predict(X)      # stroing Predition on Train Set"
   ]
  },
  {
   "cell_type": "code",
   "execution_count": 29,
   "metadata": {},
   "outputs": [
    {
     "name": "stdout",
     "output_type": "stream",
     "text": [
      "20 611741.0809544686 0.8358791710992499\n",
      "40 546043.7909979254 0.8692374576593448\n",
      "60 540096.1505642765 0.8720705380580038\n",
      "80 535406.1508680417 0.8742826778507152\n",
      "100 525688.7576982148 0.8788046971853565\n",
      "120 518030.3791224657 0.8823101884305097\n",
      "140 516816.3045173319 0.8828611861440641\n",
      "160 510057.86870132876 0.8859048159905669\n",
      "180 516651.11663719063 0.8829360553763518\n",
      "200 538876.7247922025 0.8726475626276871\n",
      "220 501056.1671840331 0.8898964724503096\n",
      "240 514603.9567835931 0.883861917384626\n",
      "260 499460.8885004111 0.8905964586338817\n",
      "280 490552.8237110241 0.8944641604671426\n"
     ]
    }
   ],
   "source": [
    "#Tuning Gradient Boosting Regressor\n",
    "\n",
    "for i in range(1,15):\n",
    "    j = i*20\n",
    "    model = GradientBoostingRegressor(learning_rate=0.12,n_estimators=j)\n",
    "    model.fit(X_train,y_train)\n",
    "    pred_test = model.predict(X_test)\n",
    "    print(j,np.sqrt(np.sum((pred_test-y_test)**2)),model.score(X_test,y_test))"
   ]
  },
  {
   "cell_type": "code",
   "execution_count": 33,
   "metadata": {},
   "outputs": [
    {
     "name": "stdout",
     "output_type": "stream",
     "text": [
      "518865.7913112808 0.8819302926347428\n"
     ]
    }
   ],
   "source": [
    "# fitting GradientBoosting Regressor\n",
    "\n",
    "model = GradientBoostingRegressor(learning_rate=0.12,n_estimators=120,max_depth=3)\n",
    "model.fit(X_train,y_train)\n",
    "pred_test = model.predict(X_test)\n",
    "print(np.sqrt(np.sum((pred_test-y_test)**2)),model.score(X_test,y_test))"
   ]
  },
  {
   "cell_type": "code",
   "execution_count": 34,
   "metadata": {},
   "outputs": [],
   "source": [
    "pr_t6=model.predict(X_train)    # stroing Predition on Training Set\n",
    "pr_tt6 = model.predict(X_test)   # stroing Predition on Testing Set\n",
    "pr_ttt6 = model.predict(test)   # stroing Predition on Test DataSet\n",
    "pr_tttt6 = model.predict(X)    # stroing Predition on Train DAtaSet"
   ]
  },
  {
   "cell_type": "code",
   "execution_count": 35,
   "metadata": {},
   "outputs": [
    {
     "name": "stdout",
     "output_type": "stream",
     "text": [
      "           pred6          pred5          pred4          pred3              0\n",
      "0  122908.499090  159273.659796  121661.613636  104200.387696  104455.548549\n",
      "1  213358.323758  194891.736700  206193.149068  218578.405492  216829.014507\n",
      "2   64788.480937  100540.893819  115785.681818   44194.169834   45192.940922\n",
      "3  390278.802853  243997.583015  445914.787682  345216.481192  350659.441152\n",
      "4  101206.504555  146626.203510  115785.681818   95194.173595   95230.294574\n",
      "           pred6          pred5          pred4          pred3              0\n",
      "0  264290.021445  296885.512559  245399.170635  321626.116025  320859.656192\n",
      "1  134457.963627  164080.131727  130678.467153  133026.239409  133722.717976\n",
      "2  256006.731535  209080.916523  306292.672489  247110.272051  248129.955949\n",
      "3  175898.158898  177379.539084  184481.168831  179365.700284  178666.896008\n",
      "4  266871.554477  221048.284459  274134.647482  259142.580640  258465.536554\n",
      "           pred6          pred5          pred4          pred3              0\n",
      "0  130124.111575  157013.217640  118458.834951   85687.474992   85687.474992\n",
      "1  156826.750577  158616.092758  143209.848485  122026.281016  122026.281016\n",
      "2  177892.142716  191953.741963  173658.520599  144176.926756  144176.926756\n",
      "3  178709.173406  191114.003476  189852.216346  152805.216988  152805.216988\n",
      "4  195613.399854  177567.197924  230517.812155  152132.589864  152132.589864\n"
     ]
    },
    {
     "data": {
      "text/html": [
       "<div>\n",
       "<style scoped>\n",
       "    .dataframe tbody tr th:only-of-type {\n",
       "        vertical-align: middle;\n",
       "    }\n",
       "\n",
       "    .dataframe tbody tr th {\n",
       "        vertical-align: top;\n",
       "    }\n",
       "\n",
       "    .dataframe thead th {\n",
       "        text-align: right;\n",
       "    }\n",
       "</style>\n",
       "<table border=\"1\" class=\"dataframe\">\n",
       "  <thead>\n",
       "    <tr style=\"text-align: right;\">\n",
       "      <th></th>\n",
       "      <th>pred6</th>\n",
       "      <th>pred5</th>\n",
       "      <th>pred4</th>\n",
       "      <th>pred3</th>\n",
       "      <th>0</th>\n",
       "    </tr>\n",
       "  </thead>\n",
       "  <tbody>\n",
       "    <tr>\n",
       "      <th>0</th>\n",
       "      <td>206794.614392</td>\n",
       "      <td>189086.541287</td>\n",
       "      <td>204167.443299</td>\n",
       "      <td>215256.832143</td>\n",
       "      <td>215256.832143</td>\n",
       "    </tr>\n",
       "    <tr>\n",
       "      <th>1</th>\n",
       "      <td>174060.001698</td>\n",
       "      <td>181964.636206</td>\n",
       "      <td>151209.278607</td>\n",
       "      <td>200485.882825</td>\n",
       "      <td>200485.882825</td>\n",
       "    </tr>\n",
       "    <tr>\n",
       "      <th>2</th>\n",
       "      <td>213358.323758</td>\n",
       "      <td>194891.736700</td>\n",
       "      <td>206193.149068</td>\n",
       "      <td>216829.014507</td>\n",
       "      <td>216829.014507</td>\n",
       "    </tr>\n",
       "    <tr>\n",
       "      <th>3</th>\n",
       "      <td>151715.346700</td>\n",
       "      <td>173126.552657</td>\n",
       "      <td>171729.262626</td>\n",
       "      <td>149091.116365</td>\n",
       "      <td>149091.116365</td>\n",
       "    </tr>\n",
       "    <tr>\n",
       "      <th>4</th>\n",
       "      <td>273337.847932</td>\n",
       "      <td>239633.312385</td>\n",
       "      <td>294597.461039</td>\n",
       "      <td>281673.196792</td>\n",
       "      <td>281673.196792</td>\n",
       "    </tr>\n",
       "  </tbody>\n",
       "</table>\n",
       "</div>"
      ],
      "text/plain": [
       "           pred6          pred5          pred4          pred3              0\n",
       "0  206794.614392  189086.541287  204167.443299  215256.832143  215256.832143\n",
       "1  174060.001698  181964.636206  151209.278607  200485.882825  200485.882825\n",
       "2  213358.323758  194891.736700  206193.149068  216829.014507  216829.014507\n",
       "3  151715.346700  173126.552657  171729.262626  149091.116365  149091.116365\n",
       "4  273337.847932  239633.312385  294597.461039  281673.196792  281673.196792"
      ]
     },
     "execution_count": 35,
     "metadata": {},
     "output_type": "execute_result"
    }
   ],
   "source": [
    "# Combining All The Predition from different estimators \n",
    "# Into A single DataFrame\n",
    "\n",
    "#  t = Prediction on X_train\n",
    "#  tt = Prediction on X_test\n",
    "#  ttt = Prediction on test\n",
    "#  tttt = Prediction on train\n",
    "\n",
    "\n",
    "t = pd.DataFrame(pr_t2)\n",
    "t.insert(loc=0,column='pred3',value=pr_t3)\n",
    "t.insert(loc=0,column='pred4',value=pr_t4)\n",
    "t.insert(loc=0,column='pred5',value=pr_t5)\n",
    "t.insert(loc=0,column='pred6',value=pr_t6)\n",
    "print(t.head())\n",
    "\n",
    "\n",
    "tt = pd.DataFrame(pr_tt2)\n",
    "tt.insert(loc=0,column='pred3',value=pr_tt3)\n",
    "tt.insert(loc=0,column='pred4',value=pr_tt4)\n",
    "tt.insert(loc=0,column='pred5',value=pr_tt5)\n",
    "tt.insert(loc=0,column='pred6',value=pr_tt6)\n",
    "print(tt.head())\n",
    "\n",
    "ttt = pd.DataFrame(pr_ttt2)\n",
    "ttt.insert(loc=0,column='pred3',value=pr_ttt3)\n",
    "ttt.insert(loc=0,column='pred4',value=pr_ttt4)\n",
    "ttt.insert(loc=0,column='pred5',value=pr_ttt5)\n",
    "ttt.insert(loc=0,column='pred6',value=pr_ttt6)\n",
    "print(ttt.head())\n",
    "\n",
    "tttt = pd.DataFrame(pr_tttt2)\n",
    "tttt.insert(loc=0,column='pred3',value=pr_tttt3)\n",
    "tttt.insert(loc=0,column='pred4',value=pr_tttt4)\n",
    "tttt.insert(loc=0,column='pred5',value=pr_tttt5)\n",
    "tttt.insert(loc=0,column='pred6',value=pr_tttt6)\n",
    "tttt.head()"
   ]
  },
  {
   "cell_type": "code",
   "execution_count": 36,
   "metadata": {},
   "outputs": [
    {
     "name": "stdout",
     "output_type": "stream",
     "text": [
      "          0         1         2         3         4\n",
      "0 -0.746448 -0.565189 -0.858966 -1.034246 -1.025251\n",
      "1  0.418329  0.288503  0.259335  0.508606  0.482395\n",
      "2 -1.494895 -1.972893 -0.936701 -1.843673 -1.820341\n",
      "3  2.696640  1.465469  3.430708  2.216834  2.277916\n",
      "4 -1.025918 -0.868323 -0.936701 -1.155731 -1.149020\n",
      "          0         1         2         3         4\n",
      "0  1.084021  2.292329  0.780819  1.660803  1.639136\n",
      "1 -0.609955 -0.405930 -0.766566 -0.581670 -0.572265\n",
      "2  0.975945  0.508369  1.602168  0.774802  0.779688\n",
      "3 -0.069266 -0.135720 -0.040860 -0.030688 -0.041159\n",
      "4  1.117703  0.751515  1.168412  0.917867  0.901823\n",
      "          0         1         2         3         4\n",
      "0 -0.602049 -0.656282 -0.896034 -0.760325 -0.760325\n",
      "1 -0.251464 -0.617422 -0.554950 -0.282574 -0.282574\n",
      "2  0.025109  0.190797 -0.135347  0.008644  0.008644\n",
      "3  0.035836  0.170439  0.087812  0.122081  0.122081\n",
      "4  0.257776 -0.157982  0.648210  0.113238  0.113238\n"
     ]
    },
    {
     "data": {
      "text/html": [
       "<div>\n",
       "<style scoped>\n",
       "    .dataframe tbody tr th:only-of-type {\n",
       "        vertical-align: middle;\n",
       "    }\n",
       "\n",
       "    .dataframe tbody tr th {\n",
       "        vertical-align: top;\n",
       "    }\n",
       "\n",
       "    .dataframe thead th {\n",
       "        text-align: right;\n",
       "    }\n",
       "</style>\n",
       "<table border=\"1\" class=\"dataframe\">\n",
       "  <thead>\n",
       "    <tr style=\"text-align: right;\">\n",
       "      <th></th>\n",
       "      <th>0</th>\n",
       "      <th>1</th>\n",
       "      <th>2</th>\n",
       "      <th>3</th>\n",
       "      <th>4</th>\n",
       "    </tr>\n",
       "  </thead>\n",
       "  <tbody>\n",
       "    <tr>\n",
       "      <th>0</th>\n",
       "      <td>0.333810</td>\n",
       "      <td>0.135649</td>\n",
       "      <td>0.230588</td>\n",
       "      <td>0.441343</td>\n",
       "      <td>0.441343</td>\n",
       "    </tr>\n",
       "    <tr>\n",
       "      <th>1</th>\n",
       "      <td>-0.089102</td>\n",
       "      <td>-0.027248</td>\n",
       "      <td>-0.473360</td>\n",
       "      <td>0.249968</td>\n",
       "      <td>0.249968</td>\n",
       "    </tr>\n",
       "    <tr>\n",
       "      <th>2</th>\n",
       "      <td>0.418609</td>\n",
       "      <td>0.268429</td>\n",
       "      <td>0.257515</td>\n",
       "      <td>0.461712</td>\n",
       "      <td>0.461712</td>\n",
       "    </tr>\n",
       "    <tr>\n",
       "      <th>3</th>\n",
       "      <td>-0.377782</td>\n",
       "      <td>-0.229398</td>\n",
       "      <td>-0.200598</td>\n",
       "      <td>-0.415910</td>\n",
       "      <td>-0.415910</td>\n",
       "    </tr>\n",
       "    <tr>\n",
       "      <th>4</th>\n",
       "      <td>1.193510</td>\n",
       "      <td>1.291788</td>\n",
       "      <td>1.432632</td>\n",
       "      <td>1.301844</td>\n",
       "      <td>1.301844</td>\n",
       "    </tr>\n",
       "  </tbody>\n",
       "</table>\n",
       "</div>"
      ],
      "text/plain": [
       "          0         1         2         3         4\n",
       "0  0.333810  0.135649  0.230588  0.441343  0.441343\n",
       "1 -0.089102 -0.027248 -0.473360  0.249968  0.249968\n",
       "2  0.418609  0.268429  0.257515  0.461712  0.461712\n",
       "3 -0.377782 -0.229398 -0.200598 -0.415910 -0.415910\n",
       "4  1.193510  1.291788  1.432632  1.301844  1.301844"
      ]
     },
     "execution_count": 36,
     "metadata": {},
     "output_type": "execute_result"
    }
   ],
   "source": [
    "# Applying Standard Scaling to new Dataframes\n",
    "\n",
    "from sklearn.preprocessing import StandardScaler\n",
    "scaler = StandardScaler()\n",
    "scaler.fit(t)\n",
    "t = pd.DataFrame(scaler.transform(t))\n",
    "print(t.head())\n",
    "\n",
    "scaler = StandardScaler()\n",
    "scaler.fit(tt)\n",
    "tt = pd.DataFrame(scaler.transform(tt))\n",
    "print(tt.head())\n",
    "\n",
    "scaler = StandardScaler()\n",
    "scaler.fit(ttt)\n",
    "ttt = pd.DataFrame(scaler.transform(ttt))\n",
    "print(ttt.head())\n",
    "\n",
    "scaler = StandardScaler()\n",
    "scaler.fit(tttt)\n",
    "tttt = pd.DataFrame(scaler.transform(tttt))\n",
    "tttt.head()"
   ]
  },
  {
   "cell_type": "code",
   "execution_count": 39,
   "metadata": {},
   "outputs": [
    {
     "name": "stdout",
     "output_type": "stream",
     "text": [
      "280 541910.4327295164 0.8712096173702024\n"
     ]
    }
   ],
   "source": [
    "# fitting Elastic net To new Dataframe Created\n",
    "\n",
    "regr = ElasticNet(alpha=0.1, copy_X=True, fit_intercept=True, l1_ratio=0.6,\n",
    "  max_iter=10000, normalize=False, positive=False, precompute=False,\n",
    "  random_state=0, selection='cyclic', tol=0.000001, warm_start=False)\n",
    "regr.fit(t,y_train)\n",
    "pred_test = regr.predict(tt)\n",
    "print(j,np.sqrt(np.sum((pred_test-y_test)**2)),regr.score(tt,y_test))"
   ]
  },
  {
   "cell_type": "code",
   "execution_count": 40,
   "metadata": {},
   "outputs": [
    {
     "name": "stdout",
     "output_type": "stream",
     "text": [
      "411282.34212473856 0.9816295836485944\n"
     ]
    }
   ],
   "source": [
    "# fitting Gradient Boosting To new Dataframe Created\n",
    "\n",
    "model = GradientBoostingRegressor(learning_rate=0.12,n_estimators=120,max_depth=3)\n",
    "model.fit(tttt,y)\n",
    "pred_test = model.predict(tttt)\n",
    "print(np.sqrt(np.sum((pred_test-y)**2)),model.score(tttt,y))"
   ]
  },
  {
   "cell_type": "markdown",
   "metadata": {},
   "source": [
    "# Creating Output File"
   ]
  },
  {
   "cell_type": "code",
   "execution_count": 41,
   "metadata": {},
   "outputs": [],
   "source": [
    "pred = model.predict(ttt)   # making Predition"
   ]
  },
  {
   "cell_type": "code",
   "execution_count": 42,
   "metadata": {},
   "outputs": [
    {
     "data": {
      "text/plain": [
       "array([136408.57677956, 163558.28438388, 182540.51023506, ...,\n",
       "       159434.47296212, 114501.01206013, 235199.61672079])"
      ]
     },
     "execution_count": 42,
     "metadata": {},
     "output_type": "execute_result"
    }
   ],
   "source": [
    "pred"
   ]
  },
  {
   "cell_type": "code",
   "execution_count": 43,
   "metadata": {},
   "outputs": [],
   "source": [
    "p = test['Id']        # Making DataFrame with Test Id as a Column\n",
    "p = pd.DataFrame(p)"
   ]
  },
  {
   "cell_type": "code",
   "execution_count": 44,
   "metadata": {},
   "outputs": [],
   "source": [
    "p.insert(column='SalePrice', loc=1,value=pred)   # adding Our predition to the dataframe P"
   ]
  },
  {
   "cell_type": "code",
   "execution_count": 45,
   "metadata": {},
   "outputs": [],
   "source": [
    "p.to_csv(\"output1.csv\",index=False)     # converting Data Frame to Csv"
   ]
  },
  {
   "cell_type": "code",
   "execution_count": null,
   "metadata": {},
   "outputs": [],
   "source": []
  }
 ],
 "metadata": {
  "kernelspec": {
   "display_name": "Python 3",
   "language": "python",
   "name": "python3"
  },
  "language_info": {
   "codemirror_mode": {
    "name": "ipython",
    "version": 3
   },
   "file_extension": ".py",
   "mimetype": "text/x-python",
   "name": "python",
   "nbconvert_exporter": "python",
   "pygments_lexer": "ipython3",
   "version": "3.6.6"
  }
 },
 "nbformat": 4,
 "nbformat_minor": 2
}
